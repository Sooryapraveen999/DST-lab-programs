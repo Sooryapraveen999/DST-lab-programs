{
  "nbformat": 4,
  "nbformat_minor": 0,
  "metadata": {
    "colab": {
      "provenance": []
    },
    "kernelspec": {
      "name": "python3",
      "display_name": "Python 3"
    },
    "language_info": {
      "name": "python"
    }
  },
  "cells": [
    {
      "cell_type": "code",
      "execution_count": null,
      "metadata": {
        "colab": {
          "base_uri": "https://localhost:8080/"
        },
        "id": "209MUExh3-8-",
        "outputId": "aa945fd4-1d15-44bc-d69a-26dd81706c22"
      },
      "outputs": [
        {
          "output_type": "stream",
          "name": "stdout",
          "text": [
            "given infix expression (a+b)*c+d\n",
            "postfix expression ab+c*d+\n"
          ]
        }
      ],
      "source": [
        "def operator(char):\n",
        "  return char in ('+','-','*','/')\n",
        "def precendence(operator):\n",
        "  if operator == '+' or operator=='-':\n",
        "    return 1\n",
        "  elif operator=='*' or operator=='/':\n",
        "    return 2\n",
        "  else:\n",
        "    return 0\n",
        "def infixtopostfix(infixexp):\n",
        "  stack=[]\n",
        "  postfixexp=[]\n",
        "  for char in infixexp:\n",
        "    if char.isalnum():\n",
        "      postfixexp.append(char)\n",
        "    elif char=='(':\n",
        "      stack.append(char)\n",
        "    elif char==')':\n",
        "      while stack and stack[-1] != '(':\n",
        "        postfixexp.append(stack.pop())\n",
        "      stack.pop()\n",
        "    elif operator(char):\n",
        "      while stack and precendence(stack[-1])>=precendence(char):\n",
        "        postfixexp.append(stack.pop())\n",
        "      stack.append(char)\n",
        "  while stack:\n",
        "    postfixexp.append(stack.pop())\n",
        "  return ''.join(postfixexp)\n",
        "infixexpression=\"(a+b)*c+d\"\n",
        "p1=infixtopostfix(infixexpression)\n",
        "print(\"given infix expression\",infixexpression)\n",
        "print(\"postfix expression\",p1)"
      ]
    },
    {
      "cell_type": "code",
      "source": [
        "def is_operand(char):\n",
        "    return char.isalnum()\n",
        "\n",
        "def evaluate_postfix(postfix_expression):\n",
        "    stack = []\n",
        "\n",
        "    for char in postfix_expression:\n",
        "        if is_operand(char):\n",
        "            stack.append(float(char))\n",
        "        else:\n",
        "\n",
        "            operand2 = stack.pop()\n",
        "            operand1 = stack.pop()\n",
        "\n",
        "            if char == '+':\n",
        "                result = operand1 + operand2\n",
        "            elif char == '-':\n",
        "                result = operand1 - operand2\n",
        "            elif char == '*':\n",
        "                result = operand1 * operand2\n",
        "            elif char == '/':\n",
        "                result = operand1 / operand2\n",
        "\n",
        "            stack.append(result)\n",
        "\n",
        "    return stack.pop()\n",
        "postfix_expression = \"1020*5+\"\n",
        "result = evaluate_postfix(postfix_expression)\n",
        "print(\"Postfix Expression:\", postfix_expression)\n",
        "print(\"Result:\", result)"
      ],
      "metadata": {
        "id": "BqEHK05u5APU",
        "outputId": "15b6bfa2-e171-400d-ee39-b832e8f47303",
        "colab": {
          "base_uri": "https://localhost:8080/"
        }
      },
      "execution_count": null,
      "outputs": [
        {
          "output_type": "stream",
          "name": "stdout",
          "text": [
            "Postfix Expression: 1020*5+\n",
            "Result: 5.0\n"
          ]
        }
      ]
    }
  ]
}